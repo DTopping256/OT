{
 "cells": [
  {
   "cell_type": "code",
   "execution_count": null,
   "metadata": {},
   "outputs": [],
   "source": [
    "# An n dimentional spiral from a start point of cx of n dimensions\n",
    "def n_dim_spiral(cx, max_i, step_size):\n",
    "    i = 0\n",
    "    # Amount of times the algorithm has reached either an all positive or an all negative areas of n dimentional space.\n",
    "    turns = 0\n",
    "    start_points = [{k: v for k, v in cx.items()}]\n",
    "    while True:\n",
    "        for k in cx.keys():\n",
    "            for step in range(turns+1):\n",
    "                step = step_size\n",
    "                if (turns % 2 == 1):\n",
    "                    step = -step\n",
    "                cx[k] += step\n",
    "                i += 1\n",
    "                # Remove pointers to previous answer from start_points array.\n",
    "                outputDict = {k: v for k, v in cx.items()}\n",
    "                start_points.append(outputDict)\n",
    "                if (max_i == i):\n",
    "                    break\n",
    "            if (max_i  == i):\n",
    "                break\n",
    "        if (max_i == i):\n",
    "            break\n",
    "        turns += 1\n",
    "    return start_points"
   ]
  }
 ],
 "metadata": {
  "kernelspec": {
   "display_name": "Python 3",
   "language": "python",
   "name": "python3"
  },
  "language_info": {
   "codemirror_mode": {
    "name": "ipython",
    "version": 3
   },
   "file_extension": ".py",
   "mimetype": "text/x-python",
   "name": "python",
   "nbconvert_exporter": "python",
   "pygments_lexer": "ipython3",
   "version": "3.5.1"
  }
 },
 "nbformat": 4,
 "nbformat_minor": 2
}
