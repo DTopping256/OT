{
 "cells": [
  {
   "cell_type": "code",
   "execution_count": 8,
   "metadata": {},
   "outputs": [],
   "source": [
    "def encode_dna(solution):\n",
    "    dna = []\n",
    "    remainder = abs(round(solution, 3)*1000)\n",
    "    \n",
    "    # Take each digit in the form: abc.def and put into list as [\"f\", \"e\", \"d\", \".\", \"c\", \"b\", \"a\"]\n",
    "    for i in range(6):\n",
    "        part = remainder % 10**(i+1)\n",
    "        digit = int(part * 10**(-i))\n",
    "        dna.append(str(digit))\n",
    "        if (i == 2):\n",
    "            dna.append('.')\n",
    "        remainder -= part\n",
    "    \n",
    "    # Reverse list order\n",
    "    dna = dna[::-1]\n",
    "    \n",
    "    # Append '+' or '-' to list\n",
    "    prefix = ['+']\n",
    "    if (solution < 0):\n",
    "        prefix = ['-']\n",
    "    prefix.extend(dna)\n",
    "    dna = prefix\n",
    "    \n",
    "    # Return list of form: [\"s\", \"a\", \"b\", \"c\", \"d\", \"e\", \"f\"]    (where s is the sign)\n",
    "    return dna\n",
    "    \n",
    "def decode_dna(dna):\n",
    "    return float(\"\".join(dna))"
   ]
  },
  {
   "cell_type": "code",
   "execution_count": 9,
   "metadata": {},
   "outputs": [
    {
     "name": "stdout",
     "output_type": "stream",
     "text": [
      "DNA: ['+', '0', '0', '3', '.', '1', '4', '9']\n",
      "Solution: 3.149\n"
     ]
    }
   ],
   "source": [
    "# Test that I can encode and decode a value to get the same value out (to 6 SF & 3 DP).\n",
    "dna = encode_dna(3.148787)\n",
    "print(\"DNA: {}\".format(dna))\n",
    "solution = decode_dna(dna)\n",
    "print(\"Solution: {}\".format(solution))"
   ]
  },
  {
   "cell_type": "code",
   "execution_count": 10,
   "metadata": {},
   "outputs": [],
   "source": [
    "import random\n",
    "\n",
    "# Default values for mutate_dna parameters\n",
    "MUTATION_CHANCE = 0.1\n",
    "SIGN_CHANGE_CHANCE = 0.05\n",
    "sign_change_dictionary = {\"-\": \"+\", \"+\": \"-\"}\n",
    "\n",
    "def mutate_dna(dna, chance = MUTATION_CHANCE, sign_change_chance = SIGN_CHANGE_CHANCE):\n",
    "    # Chance of a change of sign\n",
    "    if (random.random() <= sign_change_chance):\n",
    "            dna[0] = sign_change_dictionary[dna[0]]\n",
    "    \n",
    "    # Chance of digit mutation has only a chance to occur\n",
    "    if (random.random() <= chance):\n",
    "                \n",
    "        # Change of random digit \n",
    "        random_index = random.randrange(1, len(dna)-1)\n",
    "        if (dna[random_index] != \".\"):\n",
    "            dna[random_index] = str(random.randrange(0, 9))\n",
    "            \n",
    "    return dna"
   ]
  },
  {
   "cell_type": "code",
   "execution_count": 11,
   "metadata": {},
   "outputs": [
    {
     "name": "stdout",
     "output_type": "stream",
     "text": [
      "['+', '2', '0', '0', '.', '0', '0', '0']\n",
      "['+', '2', '0', '0', '.', '0', '0', '0']\n",
      "['+', '2', '0', '0', '.', '0', '0', '0']\n",
      "['+', '2', '0', '0', '.', '0', '0', '0']\n",
      "['+', '2', '0', '0', '.', '0', '0', '0']\n",
      "['+', '2', '0', '0', '.', '0', '0', '0']\n",
      "['+', '2', '0', '0', '.', '0', '0', '0']\n",
      "['+', '2', '0', '0', '.', '0', '0', '0']\n",
      "['+', '2', '0', '0', '.', '0', '0', '0']\n",
      "['+', '2', '0', '0', '.', '0', '0', '0']\n",
      "['+', '2', '0', '0', '.', '0', '0', '0']\n",
      "['+', '2', '0', '0', '.', '0', '0', '0']\n",
      "['+', '2', '0', '0', '.', '0', '0', '0']\n",
      "['+', '0', '0', '0', '.', '0', '0', '0']\n",
      "['+', '0', '0', '0', '.', '0', '0', '0']\n",
      "['+', '0', '0', '0', '.', '0', '0', '0']\n",
      "['+', '0', '0', '0', '.', '0', '0', '0']\n",
      "['+', '0', '0', '0', '.', '0', '0', '0']\n",
      "['+', '0', '0', '0', '.', '0', '0', '0']\n",
      "['+', '0', '0', '0', '.', '0', '0', '0']\n",
      "['+', '0', '0', '0', '.', '0', '0', '0']\n",
      "['+', '0', '0', '0', '.', '0', '0', '0']\n",
      "['+', '0', '0', '0', '.', '0', '0', '0']\n",
      "['+', '0', '0', '0', '.', '0', '0', '0']\n",
      "['+', '0', '0', '0', '.', '0', '0', '0']\n",
      "['+', '0', '0', '0', '.', '0', '0', '0']\n",
      "['+', '0', '0', '0', '.', '0', '0', '0']\n",
      "['+', '0', '0', '0', '.', '0', '0', '0']\n",
      "['+', '0', '0', '0', '.', '0', '0', '0']\n",
      "['+', '0', '0', '0', '.', '0', '0', '0']\n",
      "['+', '0', '0', '0', '.', '0', '0', '0']\n",
      "['+', '0', '0', '0', '.', '0', '0', '0']\n",
      "['+', '0', '0', '0', '.', '0', '0', '0']\n",
      "['+', '0', '0', '0', '.', '0', '0', '0']\n",
      "['+', '0', '0', '0', '.', '0', '0', '0']\n",
      "['+', '0', '0', '0', '.', '0', '0', '0']\n",
      "['+', '0', '0', '0', '.', '0', '0', '0']\n",
      "['+', '3', '0', '0', '.', '0', '0', '0']\n",
      "['+', '3', '0', '0', '.', '0', '0', '0']\n",
      "['+', '3', '0', '0', '.', '0', '0', '0']\n",
      "['+', '3', '0', '0', '.', '0', '0', '0']\n",
      "['+', '3', '0', '0', '.', '0', '0', '0']\n",
      "['+', '3', '0', '0', '.', '0', '0', '0']\n",
      "['+', '3', '0', '0', '.', '0', '0', '0']\n",
      "['+', '3', '0', '0', '.', '0', '0', '0']\n",
      "['+', '3', '0', '0', '.', '0', '0', '0']\n",
      "['+', '3', '0', '0', '.', '0', '0', '0']\n",
      "['+', '3', '0', '0', '.', '0', '0', '0']\n",
      "['+', '3', '0', '0', '.', '0', '0', '0']\n",
      "['+', '3', '0', '0', '.', '0', '0', '0']\n",
      "['+', '3', '0', '0', '.', '0', '0', '0']\n",
      "['-', '3', '0', '0', '.', '0', '0', '0']\n",
      "['-', '3', '0', '0', '.', '0', '0', '0']\n",
      "['-', '3', '0', '0', '.', '0', '0', '0']\n",
      "['-', '3', '0', '0', '.', '0', '0', '0']\n",
      "['-', '3', '0', '0', '.', '0', '0', '0']\n",
      "['-', '3', '0', '0', '.', '0', '0', '0']\n",
      "['-', '3', '0', '0', '.', '0', '0', '0']\n",
      "['-', '3', '0', '0', '.', '0', '0', '0']\n",
      "['-', '3', '0', '0', '.', '0', '0', '0']\n",
      "['-', '3', '0', '0', '.', '0', '0', '0']\n",
      "['-', '3', '0', '0', '.', '0', '0', '0']\n",
      "['-', '3', '0', '0', '.', '0', '0', '0']\n",
      "['-', '3', '0', '0', '.', '0', '0', '0']\n",
      "['-', '3', '0', '0', '.', '0', '0', '0']\n",
      "['-', '3', '0', '0', '.', '0', '0', '0']\n",
      "['-', '3', '0', '8', '.', '0', '0', '0']\n",
      "['-', '3', '0', '8', '.', '0', '0', '0']\n",
      "['-', '3', '0', '8', '.', '0', '0', '0']\n",
      "['-', '3', '0', '8', '.', '0', '3', '0']\n",
      "['-', '3', '0', '8', '.', '0', '3', '0']\n",
      "['-', '3', '0', '8', '.', '0', '3', '0']\n",
      "['-', '3', '0', '8', '.', '0', '3', '0']\n",
      "['-', '3', '0', '8', '.', '0', '3', '0']\n",
      "['-', '3', '0', '8', '.', '0', '3', '0']\n",
      "['-', '3', '0', '8', '.', '0', '3', '0']\n",
      "['-', '3', '0', '8', '.', '0', '3', '0']\n",
      "['-', '3', '0', '8', '.', '0', '3', '0']\n",
      "['-', '3', '0', '8', '.', '0', '3', '0']\n",
      "['-', '3', '0', '8', '.', '0', '3', '0']\n",
      "['-', '3', '0', '8', '.', '0', '3', '0']\n",
      "['-', '3', '0', '8', '.', '0', '3', '0']\n",
      "['-', '3', '0', '8', '.', '0', '3', '0']\n",
      "['-', '3', '0', '8', '.', '0', '3', '0']\n",
      "['-', '3', '0', '8', '.', '0', '3', '0']\n",
      "['-', '3', '0', '8', '.', '0', '3', '0']\n",
      "['-', '3', '0', '8', '.', '0', '3', '0']\n",
      "['+', '3', '0', '8', '.', '0', '3', '0']\n",
      "['+', '3', '0', '8', '.', '0', '3', '0']\n",
      "['+', '3', '0', '8', '.', '0', '3', '0']\n",
      "['+', '3', '0', '8', '.', '0', '3', '0']\n",
      "['+', '3', '0', '8', '.', '0', '3', '0']\n",
      "['+', '3', '0', '8', '.', '0', '3', '0']\n",
      "['+', '3', '0', '8', '.', '0', '3', '0']\n",
      "['+', '3', '0', '8', '.', '0', '3', '0']\n",
      "['+', '3', '0', '8', '.', '0', '3', '0']\n",
      "['+', '3', '0', '8', '.', '0', '3', '0']\n",
      "['+', '3', '0', '8', '.', '0', '3', '0']\n",
      "['+', '3', '0', '8', '.', '0', '3', '0']\n",
      "['+', '3', '0', '8', '.', '0', '3', '0']\n"
     ]
    }
   ],
   "source": [
    "dna = encode_dna(200.000)\n",
    "for i in range(100):\n",
    "    dna = mutate_dna(dna, 0.05, 0.01)\n",
    "    print(dna)\n"
   ]
  },
  {
   "cell_type": "code",
   "execution_count": 12,
   "metadata": {},
   "outputs": [
    {
     "data": {
      "text/plain": [
       "308.03"
      ]
     },
     "execution_count": 12,
     "metadata": {},
     "output_type": "execute_result"
    }
   ],
   "source": [
    "decode_dna(dna)"
   ]
  },
  {
   "cell_type": "code",
   "execution_count": 38,
   "metadata": {},
   "outputs": [],
   "source": [
    "def cross_over(dna1, dna2, cross_over_amount):\n",
    "    resultant_dna = []\n",
    "    templates = (dna1, dna2)\n",
    "    current_template = random.randrange(0, 1)\n",
    "    cross_over_points = set([random.randrange(0, 7) for i in range(cross_over_amount)])\n",
    "    while (len(cross_over_points) != cross_over_amount):\n",
    "        cross_over_points.add(random.randrange(0, 7))\n",
    "    for i in range(8):\n",
    "        if i in cross_over_points:\n",
    "            current_template += 1\n",
    "            current_template %= 2\n",
    "        resultant_dna.append(templates[current_template][i])\n",
    "        \n",
    "    return resultant_dna"
   ]
  },
  {
   "cell_type": "code",
   "execution_count": 43,
   "metadata": {},
   "outputs": [
    {
     "name": "stdout",
     "output_type": "stream",
     "text": [
      "Cross over points generated: {0, 1, 3, 5}\n"
     ]
    },
    {
     "data": {
      "text/plain": [
       "['-', '1', '1', '2', '.', '1', '1', '1']"
      ]
     },
     "execution_count": 43,
     "metadata": {},
     "output_type": "execute_result"
    }
   ],
   "source": [
    "cross_over(encode_dna(111.111), encode_dna(-222.222), 4)"
   ]
  },
  {
   "cell_type": "code",
   "execution_count": 94,
   "metadata": {},
   "outputs": [],
   "source": [
    "class individual:\n",
    "    def __init__(self, dna=None):\n",
    "        # If no dna is provided, generate dna from encoding a random float; with a random sign, exponent and significand\n",
    "        if (dna == None):\n",
    "            start_value = (2 * random.random() - 1) * 10**(random.randrange(0, 4))\n",
    "            dna = encode_dna(start_value)\n",
    "        self.dna = dna\n",
    "    def get_dna(self):\n",
    "        return self.dna\n",
    "    def get_value(self):\n",
    "        return decode_dna(self.dna)"
   ]
  },
  {
   "cell_type": "code",
   "execution_count": 98,
   "metadata": {},
   "outputs": [
    {
     "name": "stdout",
     "output_type": "stream",
     "text": [
      "-44.839\n",
      "-511.016\n",
      "-2.238\n",
      "2.162\n",
      "9.513\n",
      "-563.88\n",
      "-841.901\n",
      "8.176\n",
      "-0.088\n",
      "-0.633\n",
      "290.554\n",
      "9.981\n",
      "78.069\n",
      "-2.968\n",
      "9.252\n",
      "0.811\n",
      "402.824\n",
      "-27.156\n",
      "9.77\n",
      "-83.453\n"
     ]
    }
   ],
   "source": [
    "# Test of random individual instance values\n",
    "for i in range(20):\n",
    "    indiv = individual()\n",
    "    print(indiv.get_value())"
   ]
  },
  {
   "cell_type": "code",
   "execution_count": null,
   "metadata": {},
   "outputs": [],
   "source": []
  },
  {
   "cell_type": "code",
   "execution_count": null,
   "metadata": {},
   "outputs": [],
   "source": []
  }
 ],
 "metadata": {
  "kernelspec": {
   "display_name": "Python 3",
   "language": "python",
   "name": "python3"
  },
  "language_info": {
   "codemirror_mode": {
    "name": "ipython",
    "version": 3
   },
   "file_extension": ".py",
   "mimetype": "text/x-python",
   "name": "python",
   "nbconvert_exporter": "python",
   "pygments_lexer": "ipython3",
   "version": "3.6.6"
  }
 },
 "nbformat": 4,
 "nbformat_minor": 2
}
