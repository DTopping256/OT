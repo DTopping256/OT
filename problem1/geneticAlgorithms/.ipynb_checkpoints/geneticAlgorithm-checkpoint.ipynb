{
 "cells": [
  {
   "cell_type": "code",
   "execution_count": 1,
   "metadata": {},
   "outputs": [],
   "source": [
    "def encode_dna(solution):\n",
    "    dna = []\n",
    "    remainder = abs(round(solution, 3)*1000)\n",
    "    \n",
    "    # Take each digit in the form: abc.def and put into list as [\"f\", \"e\", \"d\", \".\", \"c\", \"b\", \"a\"]\n",
    "    for i in range(6):\n",
    "        part = remainder % 10**(i+1)\n",
    "        digit = int(part * 10**(-i))\n",
    "        dna.append(str(digit))\n",
    "        if (i == 2):\n",
    "            dna.append('.')\n",
    "        remainder -= part\n",
    "    \n",
    "    # Reverse list order\n",
    "    dna = dna[::-1]\n",
    "    \n",
    "    # Append '+' or '-' to list\n",
    "    prefix = ['+']\n",
    "    if (solution < 0):\n",
    "        prefix = ['-']\n",
    "    prefix.extend(dna)\n",
    "    dna = prefix\n",
    "    \n",
    "    # Return list of form: [\"s\", \"a\", \"b\", \"c\", \"d\", \"e\", \"f\"]    (where s is the sign)\n",
    "    return dna\n",
    "    \n",
    "def decode_dna(dna):\n",
    "    return float(\"\".join(dna))"
   ]
  },
  {
   "cell_type": "code",
   "execution_count": 2,
   "metadata": {},
   "outputs": [
    {
     "name": "stdout",
     "output_type": "stream",
     "text": [
      "DNA: ['+', '0', '0', '3', '.', '1', '4', '9']\n",
      "Solution: 3.149\n"
     ]
    }
   ],
   "source": [
    "# Test that I can encode and decode a value to get the same value out (to 6 SF & 3 DP).\n",
    "dna = encode_dna(3.148787)\n",
    "print(\"DNA: {}\".format(dna))\n",
    "solution = decode_dna(dna)\n",
    "print(\"Solution: {}\".format(solution))"
   ]
  },
  {
   "cell_type": "code",
   "execution_count": 3,
   "metadata": {},
   "outputs": [],
   "source": [
    "import random\n",
    "\n",
    "# Default values for mutate_dna parameters\n",
    "MUTATION_CHANCE = 0.1\n",
    "SIGN_CHANGE_CHANCE = 0.05\n",
    "sign_change_dictionary = {\"-\": \"+\", \"+\": \"-\"}\n",
    "\n",
    "def mutate_dna(dna, chance = None, sign_change_chance = None):\n",
    "    # Set defaults if parameter not provided\n",
    "    chance = MUTATION_CHANCE if chance is None else chance\n",
    "    sign_change_chance = SIGN_CHANGE_CHANCE if sign_change_chance is None else sign_change_chance\n",
    "    \n",
    "    # Chance of a change of sign\n",
    "    if (random.random() <= sign_change_chance):\n",
    "            dna[0] = sign_change_dictionary[dna[0]]\n",
    "    \n",
    "    # Chance of digit mutation has only a chance to occur\n",
    "    if (random.random() <= chance):\n",
    "                \n",
    "        # Change of random digit \n",
    "        random_index = random.randrange(1, len(dna)-1)\n",
    "        if (dna[random_index] != \".\"):\n",
    "            dna[random_index] = str(random.randrange(0, 9))\n",
    "            \n",
    "    return dna"
   ]
  },
  {
   "cell_type": "code",
   "execution_count": 4,
   "metadata": {},
   "outputs": [
    {
     "name": "stdout",
     "output_type": "stream",
     "text": [
      "['+', '2', '0', '0', '.', '0', '0', '0']\n",
      "['+', '2', '0', '0', '.', '0', '0', '0']\n",
      "['+', '2', '0', '0', '.', '0', '0', '0']\n",
      "['+', '2', '0', '0', '.', '0', '0', '0']\n",
      "['+', '2', '0', '0', '.', '0', '0', '0']\n",
      "['+', '2', '0', '0', '.', '0', '0', '0']\n",
      "['+', '2', '0', '0', '.', '0', '0', '0']\n",
      "['+', '2', '0', '0', '.', '0', '0', '0']\n",
      "['+', '2', '0', '0', '.', '0', '0', '0']\n",
      "['+', '2', '0', '0', '.', '0', '0', '0']\n",
      "['+', '2', '0', '0', '.', '0', '0', '0']\n",
      "['+', '2', '0', '0', '.', '0', '0', '0']\n",
      "['+', '2', '0', '0', '.', '0', '0', '0']\n",
      "['+', '2', '0', '0', '.', '0', '0', '0']\n",
      "['+', '2', '0', '0', '.', '0', '0', '0']\n",
      "['+', '2', '0', '0', '.', '0', '0', '0']\n",
      "['+', '2', '0', '0', '.', '0', '0', '0']\n",
      "['+', '2', '0', '0', '.', '0', '0', '0']\n",
      "['+', '2', '0', '0', '.', '0', '0', '0']\n",
      "['+', '2', '0', '0', '.', '0', '0', '0']\n",
      "['+', '2', '0', '0', '.', '0', '0', '0']\n",
      "['+', '2', '0', '0', '.', '0', '0', '0']\n",
      "['+', '2', '0', '0', '.', '0', '0', '0']\n",
      "['+', '2', '0', '0', '.', '0', '0', '0']\n",
      "['+', '2', '0', '0', '.', '0', '0', '0']\n",
      "['+', '2', '0', '0', '.', '0', '0', '0']\n",
      "['+', '2', '0', '0', '.', '0', '0', '0']\n",
      "['+', '2', '0', '0', '.', '0', '0', '0']\n",
      "['+', '2', '0', '0', '.', '0', '0', '0']\n",
      "['+', '2', '0', '0', '.', '0', '0', '0']\n",
      "['+', '2', '0', '0', '.', '0', '0', '0']\n",
      "['+', '2', '0', '0', '.', '0', '0', '0']\n",
      "['+', '2', '0', '0', '.', '0', '0', '0']\n",
      "['+', '2', '0', '0', '.', '0', '0', '0']\n",
      "['+', '2', '0', '0', '.', '0', '0', '0']\n",
      "['+', '2', '0', '0', '.', '0', '0', '0']\n",
      "['+', '2', '0', '0', '.', '0', '0', '0']\n",
      "['+', '2', '0', '0', '.', '0', '0', '0']\n",
      "['+', '2', '0', '0', '.', '0', '0', '0']\n",
      "['+', '2', '0', '0', '.', '0', '0', '0']\n",
      "['+', '2', '0', '0', '.', '0', '0', '0']\n",
      "['+', '2', '0', '0', '.', '0', '0', '0']\n",
      "['+', '4', '0', '0', '.', '0', '0', '0']\n",
      "['+', '4', '0', '0', '.', '0', '0', '0']\n",
      "['+', '4', '0', '0', '.', '0', '0', '0']\n",
      "['+', '4', '0', '0', '.', '0', '0', '0']\n",
      "['+', '4', '0', '0', '.', '0', '0', '0']\n",
      "['+', '4', '0', '0', '.', '0', '0', '0']\n",
      "['+', '4', '0', '0', '.', '0', '0', '0']\n",
      "['+', '4', '0', '0', '.', '0', '0', '0']\n",
      "['+', '4', '0', '0', '.', '0', '0', '0']\n",
      "['+', '4', '0', '0', '.', '0', '0', '0']\n",
      "['+', '4', '0', '0', '.', '0', '0', '0']\n",
      "['+', '4', '0', '0', '.', '0', '0', '0']\n",
      "['+', '4', '0', '0', '.', '0', '0', '0']\n",
      "['+', '4', '0', '0', '.', '0', '6', '0']\n",
      "['+', '4', '0', '0', '.', '0', '6', '0']\n",
      "['+', '4', '0', '0', '.', '0', '6', '0']\n",
      "['+', '4', '0', '0', '.', '0', '6', '0']\n",
      "['+', '4', '0', '0', '.', '0', '6', '0']\n",
      "['+', '4', '0', '0', '.', '0', '6', '0']\n",
      "['+', '4', '0', '0', '.', '0', '6', '0']\n",
      "['+', '4', '0', '0', '.', '0', '6', '0']\n",
      "['+', '4', '0', '0', '.', '0', '6', '0']\n",
      "['+', '4', '0', '0', '.', '0', '6', '0']\n",
      "['+', '4', '0', '0', '.', '0', '6', '0']\n",
      "['+', '4', '0', '0', '.', '0', '6', '0']\n",
      "['+', '4', '0', '0', '.', '0', '6', '0']\n",
      "['+', '4', '0', '0', '.', '0', '6', '0']\n",
      "['+', '4', '0', '0', '.', '0', '6', '0']\n",
      "['+', '4', '0', '0', '.', '0', '6', '0']\n",
      "['+', '4', '0', '0', '.', '0', '6', '0']\n",
      "['+', '4', '0', '0', '.', '0', '6', '0']\n",
      "['+', '4', '0', '0', '.', '0', '6', '0']\n",
      "['+', '4', '0', '0', '.', '0', '6', '0']\n",
      "['+', '4', '0', '0', '.', '0', '6', '0']\n",
      "['+', '4', '0', '0', '.', '0', '6', '0']\n",
      "['+', '4', '0', '0', '.', '0', '6', '0']\n",
      "['+', '4', '0', '0', '.', '0', '6', '0']\n",
      "['+', '4', '0', '0', '.', '0', '6', '0']\n",
      "['+', '4', '0', '0', '.', '0', '6', '0']\n",
      "['+', '4', '0', '0', '.', '0', '6', '0']\n",
      "['+', '4', '0', '0', '.', '0', '6', '0']\n",
      "['+', '4', '0', '0', '.', '0', '6', '0']\n",
      "['+', '4', '0', '0', '.', '0', '6', '0']\n",
      "['+', '4', '0', '0', '.', '0', '6', '0']\n",
      "['+', '4', '0', '0', '.', '0', '6', '0']\n",
      "['+', '4', '0', '0', '.', '0', '6', '0']\n",
      "['+', '4', '0', '0', '.', '0', '6', '0']\n",
      "['+', '4', '0', '0', '.', '0', '6', '0']\n",
      "['+', '4', '0', '0', '.', '0', '6', '0']\n",
      "['+', '4', '0', '0', '.', '0', '6', '0']\n",
      "['+', '4', '0', '0', '.', '0', '6', '0']\n",
      "['+', '4', '0', '0', '.', '0', '6', '0']\n",
      "['+', '4', '0', '0', '.', '0', '6', '0']\n",
      "['+', '4', '0', '0', '.', '0', '6', '0']\n",
      "['+', '4', '0', '0', '.', '0', '6', '0']\n",
      "['+', '4', '0', '0', '.', '0', '6', '0']\n",
      "['+', '4', '0', '0', '.', '0', '6', '0']\n",
      "['+', '4', '0', '0', '.', '0', '6', '0']\n"
     ]
    }
   ],
   "source": [
    "dna = encode_dna(200.000)\n",
    "for i in range(100):\n",
    "    dna = mutate_dna(dna, 0.05, 0.01)\n",
    "    print(dna)\n"
   ]
  },
  {
   "cell_type": "code",
   "execution_count": 5,
   "metadata": {},
   "outputs": [
    {
     "data": {
      "text/plain": [
       "400.06"
      ]
     },
     "execution_count": 5,
     "metadata": {},
     "output_type": "execute_result"
    }
   ],
   "source": [
    "decode_dna(dna)"
   ]
  },
  {
   "cell_type": "code",
   "execution_count": 6,
   "metadata": {},
   "outputs": [],
   "source": [
    "def cross_over(dna1, dna2, cross_over_amount):\n",
    "    resultant_dna = []\n",
    "    templates = (dna1, dna2)\n",
    "    current_template = random.randrange(0, 1)\n",
    "    cross_over_points = set([random.randrange(0, 7) for i in range(cross_over_amount)])\n",
    "    while (len(cross_over_points) != cross_over_amount):\n",
    "        cross_over_points.add(random.randrange(0, 7))\n",
    "    for i in range(8):\n",
    "        if i in cross_over_points:\n",
    "            current_template += 1\n",
    "            current_template %= 2\n",
    "        resultant_dna.append(templates[current_template][i])\n",
    "        \n",
    "    return resultant_dna"
   ]
  },
  {
   "cell_type": "code",
   "execution_count": 7,
   "metadata": {},
   "outputs": [
    {
     "data": {
      "text/plain": [
       "['-', '1', '1', '2', '.', '1', '1', '1']"
      ]
     },
     "execution_count": 7,
     "metadata": {},
     "output_type": "execute_result"
    }
   ],
   "source": [
    "cross_over(encode_dna(111.111), encode_dna(-222.222), 4)"
   ]
  },
  {
   "cell_type": "code",
   "execution_count": 13,
   "metadata": {},
   "outputs": [],
   "source": [
    "class individual:\n",
    "    def __init__(self, dna=None, gen=None):\n",
    "        # If no dna is provided, generate dna from encoding a random float; with a random sign, exponent and significand\n",
    "        if (dna == None):\n",
    "            start_value = (2 * random.random() - 1) * 10**(random.randrange(0, 4))\n",
    "            dna = encode_dna(start_value)\n",
    "        self.dna = dna\n",
    "        self.gen = 0 if gen is None else gen\n",
    "    def get_dna(self):\n",
    "        return self.dna\n",
    "    def get_value(self):\n",
    "        return decode_dna(self.dna)\n",
    "    def get_gen(self):\n",
    "        return self.gen"
   ]
  },
  {
   "cell_type": "code",
   "execution_count": 9,
   "metadata": {},
   "outputs": [
    {
     "name": "stdout",
     "output_type": "stream",
     "text": [
      "-62.452\n",
      "0.626\n",
      "-73.029\n",
      "-42.221\n",
      "-5.854\n",
      "296.589\n",
      "629.367\n",
      "-43.721\n",
      "-61.134\n",
      "772.863\n",
      "-1.259\n",
      "-6.846\n",
      "235.572\n",
      "0.535\n",
      "-34.078\n",
      "-700.676\n",
      "0.794\n",
      "-0.115\n",
      "-498.407\n",
      "81.859\n"
     ]
    }
   ],
   "source": [
    "# Test of random individual instance values\n",
    "for i in range(20):\n",
    "    indiv = individual()\n",
    "    print(indiv.get_value())"
   ]
  },
  {
   "cell_type": "code",
   "execution_count": 17,
   "metadata": {},
   "outputs": [],
   "source": [
    "# Default cross over amount\n",
    "CROSS_OVER_AMOUNT = 2\n",
    "\n",
    "def breed_individual(ind1, ind2, cross_over_amount=None, mutation_chance=None, sign_change_chance=None):\n",
    "    # Set defaults if parameter not provided\n",
    "    cross_over_amount = CROSS_OVER_AMOUNT if cross_over_amount is None else cross_over_amount\n",
    "    mutation_chance = MUTATION_CHANCE if mutation_chance is None else mutation_chance\n",
    "    sign_change_chance = SIGN_CHANGE_CHANCE if sign_change_chance is None else sign_change_chance\n",
    "    # Calculate the generation number of the offspring.\n",
    "    gen1 = ind1.get_gen()\n",
    "    gen2 = ind2.get_gen()\n",
    "    next_gen = gen1+1 if gen1 > gen2 else gen2+1\n",
    "    # Create the dna of the offspring\n",
    "    dna1 = ind1.get_dna()\n",
    "    dna2 = ind2.get_dna()\n",
    "    new_dna = mutate_dna(cross_over(dna1, dna2, cross_over_amount), mutation_chance, sign_change_chance)\n",
    "    return individual(new_dna, next_gen)"
   ]
  },
  {
   "cell_type": "code",
   "execution_count": 53,
   "metadata": {},
   "outputs": [],
   "source": [
    "individual1 = individual(encode_dna(111.111), 1)\n",
    "individual2 = individual(encode_dna(-222.222), 2)\n",
    "new_individual = breed_individual(individual1, individual2, 3, 1)"
   ]
  },
  {
   "cell_type": "code",
   "execution_count": 54,
   "metadata": {},
   "outputs": [
    {
     "data": {
      "text/plain": [
       "218.222"
      ]
     },
     "execution_count": 54,
     "metadata": {},
     "output_type": "execute_result"
    }
   ],
   "source": [
    "new_individual.get_value()"
   ]
  },
  {
   "cell_type": "code",
   "execution_count": null,
   "metadata": {},
   "outputs": [],
   "source": []
  }
 ],
 "metadata": {
  "kernelspec": {
   "display_name": "Python 3",
   "language": "python",
   "name": "python3"
  },
  "language_info": {
   "codemirror_mode": {
    "name": "ipython",
    "version": 3
   },
   "file_extension": ".py",
   "mimetype": "text/x-python",
   "name": "python",
   "nbconvert_exporter": "python",
   "pygments_lexer": "ipython3",
   "version": "3.5.1"
  }
 },
 "nbformat": 4,
 "nbformat_minor": 2
}
