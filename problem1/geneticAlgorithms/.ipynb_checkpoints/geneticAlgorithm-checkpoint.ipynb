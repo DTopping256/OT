{
 "cells": [
  {
   "cell_type": "code",
   "execution_count": 6,
   "metadata": {},
   "outputs": [],
   "source": [
    "class individual:\n",
    "    def __init__(self, dna=None):\n",
    "        self.dna = dna\n",
    "    def get_dna(self):\n",
    "        return self.dna"
   ]
  },
  {
   "cell_type": "code",
   "execution_count": 47,
   "metadata": {},
   "outputs": [
    {
     "name": "stdout",
     "output_type": "stream",
     "text": [
      "Collecting bitstring\n",
      "  Downloading https://files.pythonhosted.org/packages/f3/e5/dfe4c49c93d174a5fd807ed307d3a3f38c6b3e140972945f81a5f5578ca7/bitstring-3.1.5.zip (624kB)\n",
      "Building wheels for collected packages: bitstring\n",
      "  Running setup.py bdist_wheel for bitstring: started\n",
      "  Running setup.py bdist_wheel for bitstring: finished with status 'done'\n",
      "  Stored in directory: C:\\Users\\danzi\\AppData\\Local\\pip\\Cache\\wheels\\2d\\29\\47\\179175c4ddff694032837432ae45c04c6bf93e4b01c23fb5b3\n",
      "Successfully built bitstring\n",
      "Installing collected packages: bitstring\n",
      "Successfully installed bitstring-3.1.5\n"
     ]
    }
   ],
   "source": [
    "! pip install bitstring"
   ]
  },
  {
   "cell_type": "code",
   "execution_count": 57,
   "metadata": {},
   "outputs": [],
   "source": [
    "import bitstring\n",
    "\n",
    "def encode_dna(solution):\n",
    "    return bitstring.BitArray(float=solution, length=32).bin\n",
    "\n",
    "def decode_dna(dna):\n",
    "    return bitstring.BitArray(bin=dna).float"
   ]
  },
  {
   "cell_type": "code",
   "execution_count": 59,
   "metadata": {},
   "outputs": [
    {
     "name": "stdout",
     "output_type": "stream",
     "text": [
      "DNA: 10111100101000111101011100001010\n",
      "Solution: -0.02\n"
     ]
    }
   ],
   "source": [
    "dna = encode_dna(-0.02)\n",
    "print(\"DNA: {}\".format(dna))\n",
    "solution = round(decode_dna(dna),2)\n",
    "print(\"Solution: {}\".format(solution))"
   ]
  },
  {
   "cell_type": "code",
   "execution_count": 120,
   "metadata": {},
   "outputs": [],
   "source": [
    "import random\n",
    "\n",
    "def mutate_dna(dna, chance):\n",
    "    dna = dna\n",
    "    if (random.random() <= chance):\n",
    "        random_indice = random.randrange(0, len(dna)-1)\n",
    "        split_dna = list(dna)\n",
    "        part = split_dna[random_indice]\n",
    "        part = (int(part) + 1) % 2\n",
    "        split_dna[random_indice] = str(part)\n",
    "        dna = \"\".join(split_dna)\n",
    "    return dna"
   ]
  },
  {
   "cell_type": "code",
   "execution_count": 123,
   "metadata": {},
   "outputs": [],
   "source": [
    "dna = encode_dna(200)\n",
    "for i in range(10):\n",
    "    dna = mutate_dna(dna, 0.1)"
   ]
  },
  {
   "cell_type": "code",
   "execution_count": 124,
   "metadata": {},
   "outputs": [
    {
     "data": {
      "text/plain": [
       "200.75"
      ]
     },
     "execution_count": 124,
     "metadata": {},
     "output_type": "execute_result"
    }
   ],
   "source": [
    "round(decode_dna(dna), 3)"
   ]
  },
  {
   "cell_type": "code",
   "execution_count": 125,
   "metadata": {},
   "outputs": [
    {
     "ename": "SyntaxError",
     "evalue": "invalid syntax (<ipython-input-125-3ea7b482e554>, line 3)",
     "output_type": "error",
     "traceback": [
      "\u001b[1;36m  File \u001b[1;32m\"<ipython-input-125-3ea7b482e554>\"\u001b[1;36m, line \u001b[1;32m3\u001b[0m\n\u001b[1;33m    cross_over_points = [for i in range(32)]\u001b[0m\n\u001b[1;37m                           ^\u001b[0m\n\u001b[1;31mSyntaxError\u001b[0m\u001b[1;31m:\u001b[0m invalid syntax\n"
     ]
    }
   ],
   "source": [
    "def cross_over():\n",
    "    cross_over_amount = random.randrange(1, 4)\n",
    "    cross_over_points = [for i in range(32)]\n",
    "    for i in range(32-cross_over_amount):\n",
    "        cross_over_points.pop(random.randrange(0, 32-i))\n",
    "    return cross_over_points"
   ]
  },
  {
   "cell_type": "code",
   "execution_count": null,
   "metadata": {},
   "outputs": [],
   "source": []
  }
 ],
 "metadata": {
  "kernelspec": {
   "display_name": "Python 3",
   "language": "python",
   "name": "python3"
  },
  "language_info": {
   "codemirror_mode": {
    "name": "ipython",
    "version": 3
   },
   "file_extension": ".py",
   "mimetype": "text/x-python",
   "name": "python",
   "nbconvert_exporter": "python",
   "pygments_lexer": "ipython3",
   "version": "3.5.1"
  }
 },
 "nbformat": 4,
 "nbformat_minor": 2
}
