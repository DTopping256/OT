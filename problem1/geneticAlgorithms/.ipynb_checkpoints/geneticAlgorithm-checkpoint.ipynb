{
 "cells": [
  {
   "cell_type": "code",
   "execution_count": 1,
   "metadata": {},
   "outputs": [],
   "source": [
    "def encode_dna(solution):\n",
    "    dna = []\n",
    "    remainder = abs(round(solution, 3)*1000)\n",
    "    \n",
    "    # Take each digit in the form: abc.def and put into list as [\"f\", \"e\", \"d\", \".\", \"c\", \"b\", \"a\"]\n",
    "    for i in range(6):\n",
    "        part = remainder % 10**(i+1)\n",
    "        digit = int(part * 10**(-i))\n",
    "        dna.append(str(digit))\n",
    "        if (i == 2):\n",
    "            dna.append('.')\n",
    "        remainder -= part\n",
    "    \n",
    "    # Reverse list order\n",
    "    dna = dna[::-1]\n",
    "    \n",
    "    # Append '+' or '-' to list\n",
    "    prefix = ['+']\n",
    "    if (solution < 0):\n",
    "        prefix = ['-']\n",
    "    prefix.extend(dna)\n",
    "    dna = prefix\n",
    "    \n",
    "    # Return list of form: [\"s\", \"a\", \"b\", \"c\", \"d\", \"e\", \"f\"]    (where s is the sign)\n",
    "    return dna\n",
    "    \n",
    "def decode_dna(dna):\n",
    "    return float(\"\".join(dna))"
   ]
  },
  {
   "cell_type": "code",
   "execution_count": 2,
   "metadata": {},
   "outputs": [],
   "source": [
    "import math\n",
    "import numpy as np\n",
    "import matplotlib.pyplot as plt\n",
    "import sys\n",
    "\n",
    "# Allows me to import my modules\n",
    "sys.path.append('../../modules')\n",
    "\n",
    "# The python definition of f(x) for problem 1.\n",
    "from problem_function import f as fitness_function"
   ]
  },
  {
   "cell_type": "code",
   "execution_count": 3,
   "metadata": {},
   "outputs": [
    {
     "name": "stdout",
     "output_type": "stream",
     "text": [
      "DNA: ['+', '0', '0', '3', '.', '1', '4', '9']\n",
      "Solution: 3.149\n"
     ]
    }
   ],
   "source": [
    "# Test that I can encode and decode a value to get the same value out (to 6 SF & 3 DP).\n",
    "dna = encode_dna(3.148787)\n",
    "print(\"DNA: {}\".format(dna))\n",
    "solution = decode_dna(dna)\n",
    "print(\"Solution: {}\".format(solution))"
   ]
  },
  {
   "cell_type": "code",
   "execution_count": 4,
   "metadata": {},
   "outputs": [],
   "source": [
    "import random\n",
    "\n",
    "# Default values for mutate_dna parameters\n",
    "MUTATION_CHANCE = 0.1\n",
    "SIGN_CHANGE_CHANCE = 0.05\n",
    "sign_change_dictionary = {\"-\": \"+\", \"+\": \"-\"}\n",
    "\n",
    "def mutate_dna(dna, chance = None, sign_change_chance = None):\n",
    "    # Set defaults if parameter not provided\n",
    "    chance = MUTATION_CHANCE if chance is None else chance\n",
    "    sign_change_chance = SIGN_CHANGE_CHANCE if sign_change_chance is None else sign_change_chance\n",
    "    \n",
    "    # Chance of a change of sign\n",
    "    if (random.random() <= sign_change_chance):\n",
    "            dna[0] = sign_change_dictionary[dna[0]]\n",
    "    \n",
    "    # Chance of digit mutation has only a chance to occur\n",
    "    if (random.random() <= chance):\n",
    "                \n",
    "        # Change of random digit \n",
    "        random_index = random.randrange(1, len(dna)-1)\n",
    "        if (dna[random_index] != \".\"):\n",
    "            dna[random_index] = str(random.randrange(0, 9))\n",
    "            \n",
    "    return dna"
   ]
  },
  {
   "cell_type": "code",
   "execution_count": 5,
   "metadata": {},
   "outputs": [
    {
     "name": "stdout",
     "output_type": "stream",
     "text": [
      "['+', '2', '0', '0', '.', '0', '0', '0']\n",
      "['+', '2', '0', '0', '.', '0', '0', '0']\n",
      "['+', '2', '0', '0', '.', '0', '0', '0']\n",
      "['+', '2', '0', '0', '.', '0', '0', '0']\n",
      "['+', '2', '0', '0', '.', '0', '0', '0']\n",
      "['+', '2', '0', '0', '.', '0', '0', '0']\n",
      "['+', '2', '0', '0', '.', '0', '0', '0']\n",
      "['+', '2', '0', '0', '.', '0', '0', '0']\n",
      "['+', '2', '0', '0', '.', '0', '0', '0']\n",
      "['+', '2', '0', '0', '.', '0', '0', '0']\n",
      "['+', '2', '0', '0', '.', '0', '0', '0']\n",
      "['+', '2', '0', '0', '.', '0', '0', '0']\n",
      "['+', '2', '0', '0', '.', '0', '0', '0']\n",
      "['+', '2', '0', '0', '.', '0', '0', '0']\n",
      "['+', '2', '0', '0', '.', '0', '0', '0']\n",
      "['+', '2', '0', '0', '.', '0', '0', '0']\n",
      "['+', '2', '0', '0', '.', '0', '0', '0']\n",
      "['+', '2', '0', '0', '.', '4', '0', '0']\n",
      "['+', '2', '0', '0', '.', '4', '0', '0']\n",
      "['+', '2', '0', '0', '.', '4', '0', '0']\n",
      "['+', '2', '0', '0', '.', '4', '0', '0']\n",
      "['+', '2', '0', '0', '.', '4', '0', '0']\n",
      "['+', '2', '0', '0', '.', '4', '0', '0']\n",
      "['+', '2', '0', '0', '.', '4', '0', '0']\n",
      "['+', '2', '0', '0', '.', '4', '0', '0']\n",
      "['+', '2', '8', '0', '.', '4', '0', '0']\n",
      "['-', '2', '8', '0', '.', '4', '0', '0']\n",
      "['-', '2', '8', '0', '.', '4', '0', '0']\n",
      "['-', '2', '8', '0', '.', '4', '0', '0']\n",
      "['-', '2', '8', '0', '.', '4', '0', '0']\n",
      "['-', '2', '8', '0', '.', '4', '0', '0']\n",
      "['-', '2', '8', '0', '.', '4', '0', '0']\n",
      "['-', '2', '8', '0', '.', '4', '0', '0']\n",
      "['-', '2', '8', '0', '.', '4', '0', '0']\n",
      "['-', '2', '8', '0', '.', '4', '0', '0']\n",
      "['-', '2', '8', '0', '.', '4', '0', '0']\n",
      "['-', '2', '8', '0', '.', '4', '0', '0']\n",
      "['-', '2', '8', '0', '.', '4', '0', '0']\n",
      "['-', '2', '8', '0', '.', '4', '0', '0']\n",
      "['-', '2', '8', '0', '.', '4', '0', '0']\n",
      "['-', '2', '8', '0', '.', '4', '0', '0']\n",
      "['-', '2', '8', '0', '.', '4', '0', '0']\n",
      "['-', '2', '8', '0', '.', '4', '0', '0']\n",
      "['-', '2', '8', '0', '.', '4', '0', '0']\n",
      "['-', '2', '8', '0', '.', '4', '0', '0']\n",
      "['-', '2', '8', '0', '.', '4', '0', '0']\n",
      "['-', '2', '8', '0', '.', '4', '0', '0']\n",
      "['-', '2', '8', '0', '.', '4', '0', '0']\n",
      "['-', '2', '8', '0', '.', '4', '0', '0']\n",
      "['-', '2', '8', '0', '.', '4', '0', '0']\n",
      "['-', '2', '8', '0', '.', '4', '0', '0']\n",
      "['-', '2', '8', '0', '.', '4', '0', '0']\n",
      "['-', '2', '8', '0', '.', '4', '0', '0']\n",
      "['-', '2', '8', '0', '.', '4', '0', '0']\n",
      "['-', '2', '8', '0', '.', '4', '0', '0']\n",
      "['-', '2', '8', '0', '.', '4', '0', '0']\n",
      "['-', '2', '8', '0', '.', '4', '0', '0']\n",
      "['-', '2', '8', '0', '.', '4', '0', '0']\n",
      "['-', '2', '8', '0', '.', '4', '0', '0']\n",
      "['-', '3', '8', '0', '.', '4', '0', '0']\n",
      "['-', '3', '8', '0', '.', '4', '0', '0']\n",
      "['-', '3', '8', '0', '.', '4', '0', '0']\n",
      "['-', '3', '8', '0', '.', '4', '0', '0']\n",
      "['-', '3', '8', '0', '.', '4', '0', '0']\n",
      "['-', '3', '8', '0', '.', '4', '0', '0']\n",
      "['-', '3', '8', '0', '.', '4', '0', '0']\n",
      "['-', '3', '8', '0', '.', '4', '0', '0']\n",
      "['-', '3', '8', '0', '.', '4', '0', '0']\n",
      "['-', '3', '8', '0', '.', '4', '0', '0']\n",
      "['-', '3', '8', '0', '.', '4', '0', '0']\n",
      "['-', '3', '8', '0', '.', '4', '0', '0']\n",
      "['-', '3', '8', '0', '.', '4', '0', '0']\n",
      "['-', '3', '8', '0', '.', '4', '0', '0']\n",
      "['-', '3', '8', '0', '.', '4', '0', '0']\n",
      "['-', '3', '8', '0', '.', '4', '0', '0']\n",
      "['-', '3', '8', '0', '.', '4', '0', '0']\n",
      "['-', '3', '8', '0', '.', '4', '0', '0']\n",
      "['-', '3', '8', '0', '.', '4', '0', '0']\n",
      "['-', '3', '8', '0', '.', '4', '0', '0']\n",
      "['-', '3', '8', '0', '.', '4', '0', '0']\n",
      "['-', '3', '8', '0', '.', '4', '0', '0']\n",
      "['-', '3', '8', '0', '.', '4', '0', '0']\n",
      "['-', '3', '8', '0', '.', '4', '0', '0']\n",
      "['-', '3', '8', '0', '.', '4', '0', '0']\n",
      "['-', '3', '8', '0', '.', '4', '0', '0']\n",
      "['-', '3', '8', '0', '.', '4', '0', '0']\n",
      "['-', '3', '8', '0', '.', '4', '0', '0']\n",
      "['-', '3', '8', '0', '.', '4', '0', '0']\n",
      "['-', '3', '8', '0', '.', '4', '0', '0']\n",
      "['-', '3', '8', '0', '.', '4', '0', '0']\n",
      "['-', '3', '8', '0', '.', '4', '0', '0']\n",
      "['-', '3', '8', '0', '.', '4', '0', '0']\n",
      "['-', '3', '8', '0', '.', '4', '0', '0']\n",
      "['-', '3', '8', '0', '.', '4', '0', '0']\n",
      "['-', '3', '8', '0', '.', '4', '0', '0']\n",
      "['-', '3', '8', '3', '.', '4', '0', '0']\n",
      "['-', '3', '8', '3', '.', '4', '0', '0']\n",
      "['-', '3', '8', '3', '.', '4', '0', '0']\n",
      "['-', '3', '8', '3', '.', '4', '0', '0']\n",
      "['-', '3', '8', '3', '.', '4', '0', '0']\n"
     ]
    }
   ],
   "source": [
    "dna = encode_dna(200.000)\n",
    "for i in range(100):\n",
    "    dna = mutate_dna(dna, 0.05, 0.01)\n",
    "    print(dna)\n"
   ]
  },
  {
   "cell_type": "code",
   "execution_count": 6,
   "metadata": {},
   "outputs": [
    {
     "data": {
      "text/plain": [
       "-383.4"
      ]
     },
     "execution_count": 6,
     "metadata": {},
     "output_type": "execute_result"
    }
   ],
   "source": [
    "decode_dna(dna)"
   ]
  },
  {
   "cell_type": "code",
   "execution_count": 7,
   "metadata": {},
   "outputs": [],
   "source": [
    "def cross_over(dna1, dna2, cross_over_amount):\n",
    "    resultant_dna = []\n",
    "    templates = (dna1, dna2)\n",
    "    current_template = random.randrange(0, 1)\n",
    "    cross_over_points = set([random.randrange(0, 7) for i in range(cross_over_amount)])\n",
    "    while (len(cross_over_points) != cross_over_amount):\n",
    "        cross_over_points.add(random.randrange(0, 7))\n",
    "    for i in range(8):\n",
    "        if i in cross_over_points:\n",
    "            current_template += 1\n",
    "            current_template %= 2\n",
    "        resultant_dna.append(templates[current_template][i])\n",
    "        \n",
    "    return resultant_dna"
   ]
  },
  {
   "cell_type": "code",
   "execution_count": 8,
   "metadata": {},
   "outputs": [
    {
     "data": {
      "text/plain": [
       "['-', '1', '2', '2', '.', '1', '1', '1']"
      ]
     },
     "execution_count": 8,
     "metadata": {},
     "output_type": "execute_result"
    }
   ],
   "source": [
    "cross_over(encode_dna(111.111), encode_dna(-222.222), 4)"
   ]
  },
  {
   "cell_type": "code",
   "execution_count": 9,
   "metadata": {},
   "outputs": [],
   "source": [
    "class individual:\n",
    "    def __init__(self, dna=None, gen=None):\n",
    "        # If no dna is provided, generate dna from encoding a random float; with a random sign, exponent and significand\n",
    "        if (dna == None):\n",
    "            start_value = (2 * random.random() - 1) * 10**(random.randrange(0, 4))\n",
    "            dna = encode_dna(start_value)\n",
    "        self.dna = dna\n",
    "        self.gen = 0 if gen is None else gen\n",
    "    def get_dna(self):\n",
    "        return self.dna\n",
    "    def get_value(self):\n",
    "        return decode_dna(self.dna)\n",
    "    def get_gen(self):\n",
    "        return self.gen"
   ]
  },
  {
   "cell_type": "code",
   "execution_count": 10,
   "metadata": {},
   "outputs": [
    {
     "name": "stdout",
     "output_type": "stream",
     "text": [
      "66.307\n",
      "-17.2\n",
      "58.398\n",
      "3.791\n",
      "-4.99\n",
      "-7.967\n",
      "-7.839\n",
      "-9.819\n",
      "-690.824\n",
      "-0.535\n",
      "4.68\n",
      "-46.354\n",
      "0.592\n",
      "-36.546\n",
      "65.58\n",
      "-0.487\n",
      "-3.567\n",
      "997.983\n",
      "-4.827\n",
      "-736.057\n"
     ]
    }
   ],
   "source": [
    "# Test of random individual instance values\n",
    "for i in range(20):\n",
    "    indiv = individual()\n",
    "    print(indiv.get_value())"
   ]
  },
  {
   "cell_type": "code",
   "execution_count": 11,
   "metadata": {},
   "outputs": [],
   "source": [
    "# Default cross over amount\n",
    "CROSS_OVER_AMOUNT = 2\n",
    "\n",
    "def breed_individuals(ind1, ind2, cross_over_amount=None, mutation_chance=None, sign_change_chance=None):\n",
    "    # Set defaults if parameter not provided\n",
    "    cross_over_amount = CROSS_OVER_AMOUNT if cross_over_amount is None else cross_over_amount\n",
    "    mutation_chance = MUTATION_CHANCE if mutation_chance is None else mutation_chance\n",
    "    sign_change_chance = SIGN_CHANGE_CHANCE if sign_change_chance is None else sign_change_chance\n",
    "    # Calculate the generation number of the offspring.\n",
    "    gen1 = ind1.get_gen()\n",
    "    gen2 = ind2.get_gen()\n",
    "    next_gen = gen1+1 if gen1 > gen2 else gen2+1\n",
    "    # Create the dna of the offspring\n",
    "    dna1 = ind1.get_dna()\n",
    "    dna2 = ind2.get_dna()\n",
    "    new_dna = mutate_dna(cross_over(dna1, dna2, cross_over_amount), mutation_chance, sign_change_chance)\n",
    "    return individual(new_dna, next_gen)"
   ]
  },
  {
   "cell_type": "code",
   "execution_count": 12,
   "metadata": {},
   "outputs": [],
   "source": [
    "individual1 = individual(encode_dna(111.111), 1)\n",
    "individual2 = individual(encode_dna(-222.222), 2)\n",
    "new_individual = breed_individuals(individual1, individual2, 3, 1)"
   ]
  },
  {
   "cell_type": "code",
   "execution_count": 13,
   "metadata": {},
   "outputs": [
    {
     "data": {
      "text/plain": [
       "222.122"
      ]
     },
     "execution_count": 13,
     "metadata": {},
     "output_type": "execute_result"
    }
   ],
   "source": [
    "new_individual.get_value()"
   ]
  },
  {
   "cell_type": "code",
   "execution_count": 40,
   "metadata": {},
   "outputs": [],
   "source": [
    "# Default GA parameters\n",
    "# How many individuals per generation in the population.\n",
    "POP_SIZE = 1000\n",
    "# The amount of generations the GA will produce.\n",
    "EPOCHS = 20\n",
    "# What percentage of the population can be selected to breed.\n",
    "FITNESS_UPPER_BOUND = 0.5\n",
    "# How the parents are selected.\n",
    "def selection_func(iteration, population, fitness_upper_bound):\n",
    "    return (population[iteration], population[iteration+1])\n",
    "\n",
    "MUTATION_CHANCE = 1\n",
    "CROSS_OVER_AMOUNT = 3\n",
    "SIGN_CHANGE_AMOUNT = 0.01\n",
    "\n",
    "def genetic_algorithm(population_size, epochs, fitness_upper_bound, selection_function, cross_over_amount, mutation_chance, sign_change_chance, show_workings=False):\n",
    "    # Initial population instantiation\n",
    "    population = []\n",
    "    for p in range(population_size):\n",
    "        population.append(individual())\n",
    "\n",
    "    # Genetic algorithm loop\n",
    "    cumulative_population = []\n",
    "    result = None\n",
    "    for e in range(epochs):\n",
    "        print(\"Initial epoch pop size: \", len(population))\n",
    "        cumulative_population.extend(population)\n",
    "        # Sort population by their values when input through the fitness function. Highest to lowest\n",
    "        population.sort(key=lambda ind: fitness_function(ind.get_value()))\n",
    "        if (show_workings):\n",
    "            print(\"Generation {}'s, top 10 fittest individuals: {}\".format(e+1, [population[i].get_value() for i in range(10)]))\n",
    "        # For a percentage of the population select an amount of pairs of individuals\n",
    "        for p in range(int(population_size*fitness_upper_bound/2)):\n",
    "            individuals = selection_function(p, population, fitness_upper_bound)\n",
    "            # Create an amount of next generation offspring with these individuals greater than or equal to the amount previous generation  \n",
    "            for m in range(math.ceil(2/fitness_upper_bound)):\n",
    "                population.append(breed_individuals(individuals[0], individuals[1], cross_over_amount, mutation_chance, sign_change_chance))\n",
    "        print(\"Post breeding pop size: \", len(population))\n",
    "        # Kill previous generation.\n",
    "        population = population[population_size:]\n",
    "        print(\"Post culling pop prev gen size: \", len(population))\n",
    "        # Reduce the population size if its over the size parameter.\n",
    "        while len(population) > population_size:\n",
    "            population.pop()\n",
    "        print(\"Post culling pop overflow size: \", len(population))\n",
    "    # After all the epochs pick the first individual (fittest) in the population and obtain their value.\n",
    "    solution = population[0].get_value()\n",
    "    # Return the history of the population (cumulative population) and the solution. \n",
    "    return (cumulative_population, solution)"
   ]
  },
  {
   "cell_type": "code",
   "execution_count": 41,
   "metadata": {},
   "outputs": [
    {
     "name": "stdout",
     "output_type": "stream",
     "text": [
      "Initial epoch pop size:  1000\n",
      "Generation 1's, top 10 fittest individuals: [-0.001, 0.016, 0.019, 0.029, -0.038, -0.042, 0.05, 0.053, -0.055, 0.055]\n",
      "Post breeding pop size:  2000\n",
      "Post culling pop prev gen size:  1000\n",
      "Post culling pop overflow size:  1000\n",
      "Initial epoch pop size:  1000\n",
      "Generation 2's, top 10 fittest individuals: [100.83, 100.812, 100.809, 100.636, 100.582, 100.491, 100.405, 0.0, 0.002, -0.004]\n",
      "Post breeding pop size:  2000\n",
      "Post culling pop prev gen size:  1000\n",
      "Post culling pop overflow size:  1000\n",
      "Initial epoch pop size:  1000\n",
      "Generation 3's, top 10 fittest individuals: [100.836, 100.829, 100.812, 100.809, 101.405, 100.582, 100.491, 100.405, 100.405, 0.0]\n",
      "Post breeding pop size:  2000\n",
      "Post culling pop prev gen size:  1000\n",
      "Post culling pop overflow size:  1000\n",
      "Initial epoch pop size:  1000\n",
      "Generation 4's, top 10 fittest individuals: [100.829, 100.812, 100.809, 101.205, 100.591, 100.491, 100.471, 100.465, 100.462, 100.415]\n",
      "Post breeding pop size:  2000\n",
      "Post culling pop prev gen size:  1000\n",
      "Post culling pop overflow size:  1000\n",
      "Initial epoch pop size:  1000\n",
      "Generation 5's, top 10 fittest individuals: [100.815, 100.809, 100.809, 100.802, 101.245, 100.605, 100.605, 101.405, 100.591, 100.571]\n",
      "Post breeding pop size:  2000\n",
      "Post culling pop prev gen size:  1000\n",
      "Post culling pop overflow size:  1000\n",
      "Initial epoch pop size:  1000\n",
      "Generation 6's, top 10 fittest individuals: [100.812, 100.809, 100.809, 100.809, 100.771, 100.762, 100.7, 101.405, 100.571, 100.555]\n",
      "Post breeding pop size:  2000\n",
      "Post culling pop prev gen size:  1000\n",
      "Post culling pop overflow size:  1000\n",
      "Initial epoch pop size:  1000\n",
      "Generation 7's, top 10 fittest individuals: [100.871, 100.871, 100.859, 100.849, 100.839, 100.829, 100.819, 100.809, 100.809, 100.809]\n",
      "Post breeding pop size:  2000\n",
      "Post culling pop prev gen size:  1000\n",
      "Post culling pop overflow size:  1000\n",
      "Initial epoch pop size:  1000\n",
      "Generation 8's, top 10 fittest individuals: [101.062, 101.071, 101.081, 100.889, 100.869, 100.855, 100.845, 100.839, 100.835, 100.829]\n",
      "Post breeding pop size:  2000\n",
      "Post culling pop prev gen size:  1000\n",
      "Post culling pop overflow size:  1000\n",
      "Initial epoch pop size:  1000\n",
      "Generation 9's, top 10 fittest individuals: [101.005, 101.031, 101.071, 101.085, 101.089, 101.091, 101.105, 100.882, 101.119, 100.871]\n",
      "Post breeding pop size:  2000\n",
      "Post culling pop prev gen size:  1000\n",
      "Post culling pop overflow size:  1000\n",
      "Initial epoch pop size:  1000\n",
      "Generation 10's, top 10 fittest individuals: [101.005, 101.031, 101.031, 101.051, 101.051, 101.071, 101.071, 101.075, 101.085, 101.089]\n",
      "Post breeding pop size:  2000\n",
      "Post culling pop prev gen size:  1000\n",
      "Post culling pop overflow size:  1000\n",
      "Initial epoch pop size:  1000\n",
      "Generation 11's, top 10 fittest individuals: [101.001, 101.021, 101.021, 101.031, 101.031, 101.031, 101.031, 101.041, 101.045, 101.051]\n",
      "Post breeding pop size:  2000\n",
      "Post culling pop prev gen size:  1000\n",
      "Post culling pop overflow size:  1000\n",
      "Initial epoch pop size:  1000\n",
      "Generation 12's, top 10 fittest individuals: [101.001, 101.001, 101.001, 101.001, 101.005, 101.005, 101.012, 101.021, 101.021, 101.031]\n",
      "Post breeding pop size:  2000\n",
      "Post culling pop prev gen size:  1000\n",
      "Post culling pop overflow size:  1000\n",
      "Initial epoch pop size:  1000\n",
      "Generation 13's, top 10 fittest individuals: [101.001, 101.001, 101.001, 101.001, 101.005, 101.009, 101.011, 101.012, 101.012, 101.021]\n",
      "Post breeding pop size:  2000\n",
      "Post culling pop prev gen size:  1000\n",
      "Post culling pop overflow size:  1000\n",
      "Initial epoch pop size:  1000\n",
      "Generation 14's, top 10 fittest individuals: [101.001, 101.001, 101.001, 101.001, 101.005, 101.009, 101.009, 101.011, 101.011, 101.012]\n",
      "Post breeding pop size:  2000\n",
      "Post culling pop prev gen size:  1000\n",
      "Post culling pop overflow size:  1000\n",
      "Initial epoch pop size:  1000\n",
      "Generation 15's, top 10 fittest individuals: [101.001, 101.001, 101.005, 101.005, 101.009, 101.011, 101.011, 101.011, 101.011, 101.011]\n",
      "Post breeding pop size:  2000\n",
      "Post culling pop prev gen size:  1000\n",
      "Post culling pop overflow size:  1000\n",
      "Initial epoch pop size:  1000\n",
      "Generation 16's, top 10 fittest individuals: [101.001, 101.001, 101.001, 101.001, 101.002, 101.005, 101.011, 101.011, 101.011, 101.011]\n",
      "Post breeding pop size:  2000\n",
      "Post culling pop prev gen size:  1000\n",
      "Post culling pop overflow size:  1000\n",
      "Initial epoch pop size:  1000\n",
      "Generation 17's, top 10 fittest individuals: [101.001, 101.001, 101.001, 101.001, 101.001, 101.001, 101.001, 101.001, 101.001, 101.001]\n",
      "Post breeding pop size:  2000\n",
      "Post culling pop prev gen size:  1000\n",
      "Post culling pop overflow size:  1000\n",
      "Initial epoch pop size:  1000\n",
      "Generation 18's, top 10 fittest individuals: [101.001, 101.001, 101.001, 101.001, 101.001, 101.001, 101.001, 101.001, 101.001, 101.001]\n",
      "Post breeding pop size:  2000\n",
      "Post culling pop prev gen size:  1000\n",
      "Post culling pop overflow size:  1000\n",
      "Initial epoch pop size:  1000\n",
      "Generation 19's, top 10 fittest individuals: [101.001, 101.001, 101.001, 101.001, 101.001, 101.001, 101.001, 101.001, 101.001, 101.001]\n",
      "Post breeding pop size:  2000\n",
      "Post culling pop prev gen size:  1000\n",
      "Post culling pop overflow size:  1000\n",
      "Initial epoch pop size:  1000\n",
      "Generation 20's, top 10 fittest individuals: [101.001, 101.001, 101.001, 101.001, 101.001, 101.001, 101.001, 101.001, 101.001, 101.001]\n",
      "Post breeding pop size:  2000\n",
      "Post culling pop prev gen size:  1000\n",
      "Post culling pop overflow size:  1000\n"
     ]
    }
   ],
   "source": [
    "results = genetic_algorithm(POP_SIZE, EPOCHS, FITNESS_UPPER_BOUND, selection_func, CROSS_OVER_AMOUNT, MUTATION_CHANCE, SIGN_CHANGE_CHANCE, True)"
   ]
  },
  {
   "cell_type": "code",
   "execution_count": null,
   "metadata": {},
   "outputs": [],
   "source": []
  }
 ],
 "metadata": {
  "kernelspec": {
   "display_name": "Python 3",
   "language": "python",
   "name": "python3"
  },
  "language_info": {
   "codemirror_mode": {
    "name": "ipython",
    "version": 3
   },
   "file_extension": ".py",
   "mimetype": "text/x-python",
   "name": "python",
   "nbconvert_exporter": "python",
   "pygments_lexer": "ipython3",
   "version": "3.5.1"
  }
 },
 "nbformat": 4,
 "nbformat_minor": 2
}
