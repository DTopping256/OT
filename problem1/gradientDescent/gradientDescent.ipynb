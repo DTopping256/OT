{
 "cells": [
  {
   "cell_type": "code",
   "execution_count": 1,
   "metadata": {},
   "outputs": [],
   "source": [
    "import math\n",
    "import numpy as np\n",
    "import matplotlib.pyplot as plt\n",
    "\n",
    "e = math.e\n",
    "\n",
    "# The python definition of f(x) for problem 1.\n",
    "\n",
    "def problem_function(x):\n",
    "    if (x <= 100):\n",
    "        return float(-e**(-(x/100)**2))\n",
    "    else:\n",
    "        return float(-e**(-1) + (x - 100)*(x - 102))\n",
    "\n",
    "def derived_problem_function(x):\n",
    "    if (x <= 100):\n",
    "        return float(e**(-(x/100)**2)/5000)\n",
    "    else:\n",
    "        return float(2*(x - 101))"
   ]
  },
  {
   "cell_type": "code",
   "execution_count": 2,
   "metadata": {},
   "outputs": [],
   "source": [
    "import os\n",
    "import sys\n",
    "import random\n",
    "\n",
    "# Some definitions for the following variables which will be used in gradient descent.\n",
    "'''\n",
    "        df      :   The derived problem function.\n",
    "        x_0     :   Starting position.\n",
    "        max_i   :   The maximum amount of iterations.\n",
    "        step_m  :   The multipler of the step size.\n",
    "        e_g     :   The tolerance of the gradient.\n",
    "        e_x     :   The tolerance of the difference in x.\n",
    "'''\n",
    "\n",
    "def gradient_descent(df, x_0, max_i, step_m, e_g, e_x, print_workings=False):\n",
    "    # Set the current x and create a way of storing the previous steps.\n",
    "    current_x = x_0\n",
    "    g = df(current_x)\n",
    "    step_array = []\n",
    "    \n",
    "    # Whether to print the workings\n",
    "    if (print_workings == True):\n",
    "        print(\"--------------------------------------------------------------------------------------------\\nIteration\\tX\\tg\\tdiff\\nStart (0)\\t{}\\t{}\\t{}\".format(round(current_x, 2), round(g, 2), \"N/A\"))\n",
    "        \n",
    "    \n",
    "    # Loop for a maximum of max_i\n",
    "    for i in range(max_i):\n",
    "        # Set previous x\n",
    "        step_array.append(current_x)\n",
    "        # Find the current x\n",
    "        current_x = round(current_x - step_m*g, 8)\n",
    "        # Get a new gradient\n",
    "        g = round(df(current_x), 8)\n",
    "        # Find difference in x\n",
    "        diff = current_x - step_array[i]\n",
    "        \n",
    "        # Whether to print the workings\n",
    "        if (print_workings == True):\n",
    "            print(\"{}\\t\\t{}\\t{}\\t{}\".format(i+1, round(current_x, 2), round(g, 2), round(diff, 2)))\n",
    "        \n",
    "        # Check if either of the tolerance conditions are met, if so stop the loop. \n",
    "        if (abs(g) < e_g or abs(diff) < e_x):\n",
    "            break\n",
    "    \n",
    "    # Add final x to step_array\n",
    "    step_array.append(current_x)\n",
    "    # Return a tuple of all steps and final answer\n",
    "    return (step_array, current_x)"
   ]
  },
  {
   "cell_type": "code",
   "execution_count": 10,
   "metadata": {},
   "outputs": [],
   "source": [
    "# Graph the results (data an array of x's)\n",
    "\n",
    "def plot_problem(f, xrange, data, print_data=False): \n",
    "    xs = np.linspace(xrange[0], xrange[1], 2*(xrange[1]-xrange[0]))\n",
    "    ys = np.array([f(i) for i in xs ])\n",
    "    \n",
    "    data_length = len(data)\n",
    "    s_0 = data[0]\n",
    "    s_n = data[-1]\n",
    "    \n",
    "    xplots = np.array([ round(i, 2) for i in data ])\n",
    "    yplots = np.array([ round(f(i), 2) for i in data ])\n",
    "    \n",
    "    # Work out bounds of graph\n",
    "    height = (f(xrange[0]), f(xrange[1]))\n",
    "    width = xrange\n",
    "    midpoint = ((width[0]+width[1])/2, (height[0]+height[1])/2)\n",
    "\n",
    "    # MatPlotLib\n",
    "    \n",
    "    # Plot the problem line\n",
    "    plt.title(\"Problem line (only)\")\n",
    "    plt.plot(xs, ys, '-g', label=\"f(x)\")\n",
    "    plt.legend(framealpha=0.4)\n",
    "    plt.xlabel(\"x\")\n",
    "    plt.ylabel(\"f(x)\")\n",
    "    plt.show()\n",
    "    \n",
    "    # Plot the results against problem line\n",
    "    plt.title(\"Results against problem line\")\n",
    "    line = plt.plot(xs, ys, '-g', label=\"f(x)\")\n",
    "    \n",
    "    # Plot array_plottings\n",
    "    plt.plot(xplots, yplots, \"o\", color=\"b\", label=\"steps\")\n",
    "    \n",
    "    # Annotate first and last plots\n",
    "    plt.annotate(text=\"Start point\", xy=(xplots[0], yplots[0]), xytext=(midpoint[0], midpoint[1]+70), arrowprops=dict(arrowstyle='->'))\n",
    "    plt.annotate(text=\"Finish point\", xy=(xplots[-1], yplots[-1]), xytext=(midpoint[0], midpoint[1]+30), arrowprops=dict(arrowstyle='->'))\n",
    "    \n",
    "    plt.legend(framealpha=0.4)\n",
    "    plt.xlabel(\"x\")\n",
    "    plt.ylabel(\"f(x)\")\n",
    "    plt.show()\n",
    "    if (print_data == True):\n",
    "        print(\"Plot data (2DP)\\n_____________________________________\\nX\")\n",
    "        for x in range(data):\n",
    "            print(\"{}\".format(x))"
   ]
  },
  {
   "cell_type": "code",
   "execution_count": 4,
   "metadata": {},
   "outputs": [],
   "source": [
    "x_0 = 120\n",
    "max_i = 100\n",
    "step_m = 0.1\n",
    "e_g = 0.001\n",
    "e_x = 0.001"
   ]
  },
  {
   "cell_type": "code",
   "execution_count": 5,
   "metadata": {},
   "outputs": [
    {
     "name": "stdout",
     "output_type": "stream",
     "text": [
      "--------------------------------------------------------------------------------------------\n",
      "Iteration\tX\tg\tdiff\n",
      "Start (0)\t120\t38.0\tN/A\n",
      "1\t\t116.2\t30.4\t-3.8\n",
      "2\t\t113.16\t24.32\t-3.04\n",
      "3\t\t110.73\t19.46\t-2.43\n",
      "4\t\t108.78\t15.56\t-1.95\n",
      "5\t\t107.23\t12.45\t-1.56\n",
      "6\t\t105.98\t9.96\t-1.25\n",
      "7\t\t104.98\t7.97\t-1.0\n",
      "8\t\t104.19\t6.38\t-0.8\n",
      "9\t\t103.55\t5.1\t-0.64\n",
      "10\t\t103.04\t4.08\t-0.51\n",
      "11\t\t102.63\t3.26\t-0.41\n",
      "12\t\t102.31\t2.61\t-0.33\n",
      "13\t\t102.04\t2.09\t-0.26\n",
      "14\t\t101.84\t1.67\t-0.21\n",
      "15\t\t101.67\t1.34\t-0.17\n",
      "16\t\t101.53\t1.07\t-0.13\n",
      "17\t\t101.43\t0.86\t-0.11\n",
      "18\t\t101.34\t0.68\t-0.09\n",
      "19\t\t101.27\t0.55\t-0.07\n",
      "20\t\t101.22\t0.44\t-0.05\n",
      "21\t\t101.18\t0.35\t-0.04\n",
      "22\t\t101.14\t0.28\t-0.04\n",
      "23\t\t101.11\t0.22\t-0.03\n",
      "24\t\t101.09\t0.18\t-0.02\n",
      "25\t\t101.07\t0.14\t-0.02\n",
      "26\t\t101.06\t0.11\t-0.01\n",
      "27\t\t101.05\t0.09\t-0.01\n",
      "28\t\t101.04\t0.07\t-0.01\n",
      "29\t\t101.03\t0.06\t-0.01\n",
      "30\t\t101.02\t0.05\t-0.01\n",
      "31\t\t101.02\t0.04\t-0.0\n",
      "32\t\t101.02\t0.03\t-0.0\n",
      "33\t\t101.01\t0.02\t-0.0\n",
      "34\t\t101.01\t0.02\t-0.0\n",
      "35\t\t101.01\t0.02\t-0.0\n",
      "36\t\t101.01\t0.01\t-0.0\n",
      "37\t\t101.0\t0.01\t-0.0\n",
      "38\t\t101.0\t0.01\t-0.0\n"
     ]
    }
   ],
   "source": [
    "gradient_descent_results = gradient_descent(derived_problem_function, x_0, max_i, step_m, e_g, e_x, True)"
   ]
  },
  {
   "cell_type": "code",
   "execution_count": 11,
   "metadata": {},
   "outputs": [
    {
     "data": {
      "image/png": "[encoded data removed]",
      "text/plain": [
       "<Figure size 432x288 with 1 Axes>"
      ]
     },
     "metadata": {
      "needs_background": "light"
     },
     "output_type": "display_data"
    },
    {
     "data": {
      "image/png": "[encoded data removed]",
      "text/plain": [
       "<Figure size 432x288 with 1 Axes>"
      ]
     },
     "metadata": {
      "needs_background": "light"
     },
     "output_type": "display_data"
    }
   ],
   "source": [
    "plot_problem(problem_function, (-5, 125), gradient_descent_results[0])"
   ]
  },
  {
   "cell_type": "code",
   "execution_count": 12,
   "metadata": {},
   "outputs": [],
   "source": [
    "# Graph the accuraty of a model when multiple batches are run with different starting values\n",
    "import statistics as stat\n",
    "from mpl_toolkits.mplot3d import Axes3D as plot3d\n",
    "\n",
    "def plot_2d_batch_accuracy(dependant_variable_name, independant_variable_name, expected_dependant_value, data): \n",
    "    data_length = len(data)\n",
    "    xs = np.array([i[\"x\"] for i in data])\n",
    "    ys = np.array([i[\"y\"] for i in data])\n",
    "\n",
    "    # MatPlotLib\n",
    "    \n",
    "    # How independant var affects dependant var (using other starting vars)\n",
    "    plt.title('{} with respect to {}'.format(dependant_variable_name.capitalize(), independant_variable_name))\n",
    "    plt.scatter(xs, ys, c='b', marker=\"d\", label=\"Results\")\n",
    "    plt.plot([xs[0], xs[-1]], [expected_dependant_value, expected_dependant_value], \"-g\", label='Target ({})'.format(expected_dependant_value))\n",
    "    plt.legend(framealpha=0.4)\n",
    "    plt.xlabel(independant_variable_name)\n",
    "    plt.ylabel(dependant_variable_name)\n",
    "    plt.show()\n",
    "    \n",
    "    # Calc SD of dependant data\n",
    "    sd = stat.stdev(ys, expected_dependant_value)\n",
    "    sds = np.array([abs(101-y)/sd for y in ys])\n",
    "    \n",
    "    # How independant var affects the standard deviation from target (of dependant var)\n",
    "    plt.title('Standard deviation with {}'.format(independant_variable_name))\n",
    "    plt.scatter(xs, sds, c='r', marker=\"d\", label='SD (1 SD = {})'.format(round(sd, 2)))\n",
    "    plt.legend(framealpha=0.4)\n",
    "    plt.xlabel(independant_variable_name)\n",
    "    plt.ylabel('Standard deviation from target ({})'.format(expected_dependant_value))\n",
    "    plt.show()\n",
    "    \n",
    "\n",
    "def plot_3d_batch_accuracy(x_name, y_name, z_name, expected_z_value, data):\n",
    "    \n",
    "    fig = plt.figure()\n",
    "    ax = fig.add_subplot(111, projection='3d')\n",
    "    #plt.title('How {} & {} affect {}'.format(str.capitalize(x_name), y_name, z_name))\n",
    "\n",
    "    xs = np.array([d[\"x\"] for d in data])\n",
    "    ys = np.array([d[\"y\"] for d in data])\n",
    "    zs = np.array([d[\"z\"] for d in data])    \n",
    "\n",
    "    # Plot a 3d scatter of the data\n",
    "    ax.scatter(xs, ys, zs, c=\"b\", marker=\"x\")\n",
    "\n",
    "    # Customize the z axis.\n",
    "    ax.set_xlabel(x_name)\n",
    "    ax.set_ylabel(y_name)\n",
    "    ax.set_zlabel(z_name)\n",
    "    plt.show()\n",
    "    \n",
    "    # Calc SD of dependant data\n",
    "    sd = stat.stdev(zs, expected_z_value)\n",
    "    sds = np.array([abs(101-z)/sd for z in zs])\n",
    "    \n",
    "    fig = plt.figure()\n",
    "    ax = fig.gca(projection='3d')\n",
    "   # plt.title('Standard deviation with {} & {}'.format(x_name, y_name))\n",
    "    \n",
    "    # Plot a 3d scatter of the data with SD \n",
    "    ax.scatter(xs, ys, sds, c=\"r\", marker=\"x\")\n",
    "\n",
    "    # Customize the z axis.\n",
    "    ax.set_xlabel(x_name)\n",
    "    ax.set_ylabel(y_name)\n",
    "    ax.set_zlabel('Standard deviation from target ({})'.format(expected_z_value))\n",
    "    plt.show()"
   ]
  },
  {
   "cell_type": "code",
   "execution_count": 14,
   "metadata": {},
   "outputs": [
    {
     "data": {
      "image/png": "[encoded data removed]",
      "text/plain": [
       "<Figure size 432x288 with 1 Axes>"
      ]
     },
     "metadata": {
      "needs_background": "light"
     },
     "output_type": "display_data"
    },
    {
     "data": {
      "image/png": "[encoded data removed]",
      "text/plain": [
       "<Figure size 432x288 with 1 Axes>"
      ]
     },
     "metadata": {
      "needs_background": "light"
     },
     "output_type": "display_data"
    }
   ],
   "source": [
    "#Batch testing, changing x_0\n",
    "results = []\n",
    "for x in range(80, 120):\n",
    "    gd_results = gradient_descent(derived_problem_function, x, max_i, step_m, e_g, e_x)\n",
    "    results.append({\"x\": x, \"y\": gd_results[1]})\n",
    "\n",
    "plot_2d_batch_accuracy(\"solution (x_n)\", \"start point (x_0)\", 101, results)"
   ]
  },
  {
   "cell_type": "code",
   "execution_count": null,
   "metadata": {},
   "outputs": [],
   "source": []
  }
 ],
 "metadata": {
  "kernelspec": {
   "display_name": "Python 3",
   "language": "python",
   "name": "python3"
  },
  "language_info": {
   "codemirror_mode": {
    "name": "ipython",
    "version": 3
   },
   "file_extension": ".py",
   "mimetype": "text/x-python",
   "name": "python",
   "nbconvert_exporter": "python",
   "pygments_lexer": "ipython3",
   "version": "3.6.6"
  }
 },
 "nbformat": 4,
 "nbformat_minor": 2
}
