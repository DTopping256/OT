{
 "cells": [
  {
   "cell_type": "code",
   "execution_count": 20,
   "metadata": {},
   "outputs": [],
   "source": [
    "import numpy as np\n",
    "import scipy.optimize as sp\n",
    "from problem import f, constraints, check_all_constraints, print_all_constraints"
   ]
  },
  {
   "cell_type": "code",
   "execution_count": 24,
   "metadata": {},
   "outputs": [
    {
     "name": "stdout",
     "output_type": "stream",
     "text": [
      "x1 not -ve constraint: 0 <= 0\n",
      "x2 not -ve constraint: 0 <= 4.5\n",
      "x3 not -ve constraint: 0 <= 0.75\n",
      "x4 not -ve constraint: 0 <= 0\n",
      "green constraint: 9.75 <= 10\n",
      "red constraint: 6.0 <= 6\n",
      "blue constraint: 4.5 <= 10\n",
      "yellow constraint: 18.0 <= 18\n",
      "brown constraint: 0.75 <= 8\n",
      "purple constraint: 2.25 <= 12\n",
      "Profit:  25.5\n"
     ]
    }
   ],
   "source": [
    "# Solution obtained by simplex at: http://simplex.tode.cz/en/#steps\n",
    "\n",
    "s = {\"x1\": 0, \"x2\": 9/2, \"x3\": 3/4, \"x4\": 0}\n",
    "\n",
    "print_all_constraints(s, constraints)\n",
    "check_all_constraints(s, constraints, True)\n",
    "print(\"Profit: \", f(s))"
   ]
  },
  {
   "cell_type": "code",
   "execution_count": null,
   "metadata": {},
   "outputs": [],
   "source": []
  }
 ],
 "metadata": {
  "kernelspec": {
   "display_name": "Python 3",
   "language": "python",
   "name": "python3"
  },
  "language_info": {
   "codemirror_mode": {
    "name": "ipython",
    "version": 3
   },
   "file_extension": ".py",
   "mimetype": "text/x-python",
   "name": "python",
   "nbconvert_exporter": "python",
   "pygments_lexer": "ipython3",
   "version": "3.5.1"
  }
 },
 "nbformat": 4,
 "nbformat_minor": 2
}
